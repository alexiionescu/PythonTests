{
 "cells": [
  {
   "cell_type": "markdown",
   "metadata": {},
   "source": [
    "# 4-Vectors\n",
    "We will assume speed of light $c=\\frac{1 \\; light-second}{second}=1$.  \n",
    "All measurements are done in “light” units (length in light-seconds, velocity is fraction of c, etc.).  \n",
    "Any formula can be adjusted with c powers so the units are correct. For Example:  \n",
    "$E^2 = m^2  + | \\pmb p  | ^2 \\underset{c\\neq1}{\\longrightarrow} E^2 = m^2 c^4  + | \\pmb p  | ^2 c^2$  \n",
    "The spacetime 4-vectors for observer $O$ and $\\bar O$ are  \n",
    "$O: \\Delta \\vec x \\doteq \\Delta x^{\\mu} = (\\Delta t,\\Delta x,\\Delta y,\\Delta z) = (\\Delta x^0 ,\\Delta x^1 ,\\Delta x^2 ,\\Delta x^3)$  \n",
    "$\\bar O: \\Delta \\vec x \\doteq \\Delta x^{\\bar \\mu} = (\\Delta \\bar t,\\Delta \\bar x,\\Delta \\bar y,\\Delta \\bar z) = (\\Delta x^{\\bar 0} ,\\Delta x^{\\bar 1} ,\\Delta x^{\\bar 2} ,\\Delta x^{\\bar 3})$  "
   ]
  },
  {
   "cell_type": "markdown",
   "metadata": {},
   "source": [
    "## Lorentz Transformation\n",
    "$\\Delta x^{\\bar \\mu} = \\sum \\limits_{\\nu=0}^4 {\\Lambda ^{\\bar \\mu}}_\\nu \\Delta x^\\nu = {\\Lambda^{\\bar \\mu}}_\\nu \\Delta x^\\nu$\n",
    "## Basis Vectors\n",
    "For observer $O$ we have  \n",
    "$\\vec {e _ \\nu} = (0..,\\underset{\\nu}{1},0,..0)$  \n",
    "$(\\vec {e _ \\nu})^\\mu = {\\delta^\\mu}_\\nu$  \n",
    "\n",
    "Any vector can be represented from observers $O$ and $\\bar O$:  \n",
    "$\\vec A = A^\\mu \\vec e _ \\mu = A^{\\bar\\mu} \\vec e _ {\\bar \\mu}=({\\Lambda^{\\bar\\mu}}_ \\nu A^\\nu) \\vec e _ {\\bar \\mu}=(A^\\nu {\\Lambda^{\\bar\\mu}}_ \\nu ) \\vec e _ {\\bar \\mu}$  \n",
    "$\\vec A = A^\\mu \\vec e _ \\mu =(A^\\nu {\\Lambda^{\\bar \\mu}}_ \\nu )\\vec e _ {\\bar \\mu}=(A^\\mu {\\Lambda^{\\bar\\mu}}_ \\mu )\\vec e _ {\\bar \\mu}$ (remap the dummy index $\\nu$ to $\\mu$)  \n",
    "$A^\\mu({\\vec e}_\\mu - {\\Lambda^{\\bar\\mu}}_\\mu \\vec e _ {\\bar\\mu}) = 0 \\implies$  \n",
    "\n",
    "${\\vec e}_\\mu = {\\Lambda^{\\bar\\mu}}_\\mu {\\vec e}_{ \\bar\\mu}$ (Basis Vectors Lorentz Transformation)  \n",
    "\n",
    "${\\delta^\\gamma}_\\alpha = {\\Lambda^{\\bar\\mu}}_\\alpha {\\Lambda^\\gamma}_{\\bar\\mu}$ (Lorentz Transformation Identity)"
   ]
  },
  {
   "cell_type": "markdown",
   "metadata": {},
   "source": [
    "## Scalar Product\n",
    "\n",
    "$\\vec A \\cdot \\vec A = -(A^0)^2+(A^1)^2+(A^2)^2+(A^3)^2$ (Lorentz Invariant Scalar, same for all observers)\n",
    "- $\\vec A \\cdot \\vec A < 0$ for time-like vectors\n",
    "- $\\vec A \\cdot \\vec A > 0$ for space-like vectors\n",
    "- $\\vec A \\cdot \\vec A = 0$ for light-like vectors (null vectors)  \n",
    "\n",
    "$\\vec A \\cdot \\vec B = -A^0 B^0+A^1 B^1+A^2 B^2+A^3 B^3 = \\vec B \\cdot \\vec A$  \n",
    "$\\vec A \\cdot \\vec B = \\frac 12 ( (\\vec A + \\vec B) \\cdot (\\vec A + \\vec B) - \\vec A \\cdot \\vec A - \\vec B \\cdot \\vec B)$  is also Lorentz Invariant  "
   ]
  },
  {
   "cell_type": "markdown",
   "metadata": {},
   "source": [
    "\n",
    "## Minkowski **Metric** Tensor\n",
    "$\\vec A \\cdot \\vec B = (A^\\alpha \\vec e _ \\alpha)\\cdot(A^\\beta \\vec e _ \\beta)=A^\\alpha B^\\beta (\\vec e _ \\alpha \\cdot \\vec e _ \\beta)=\\eta _ {\\alpha\\beta} A^\\alpha B^\\beta$  \n",
    "\n",
    "$\\eta _ {\\alpha\\beta} = \\begin{pmatrix} -1&0&0&0\\\\0&1&0&0\\\\0&0&1&0\\\\0&0&0&1 \\end{pmatrix}$"
   ]
  },
  {
   "cell_type": "markdown",
   "metadata": {},
   "source": [
    "## Physical 4-Vectors\n",
    "### Displacement\n",
    "\n",
    "$ds^2 = d \\vec x \\cdot d \\vec x = \\eta _ {\\alpha \\beta} dx^\\alpha dx^\\beta$\n",
    "\n",
    "### Velocity\n",
    "$\\vec u \\doteq \\frac{d \\vec x}{d\\tau} = (\\gamma,\\gamma v _ x,\\gamma v _ y,\\gamma v _ z)=(\\gamma,\\gamma \\pmb v)$\n",
    "\n",
    "$d\\tau$ is a interval of “proper” time (time interval measured by the observer in the current frame)\n",
    "\n",
    "$\\vec u \\cdot \\vec u = -\\gamma^2+\\gamma^2 {| \\pmb v  |}^2 = -\\gamma^2(1-{| \\pmb v  |}^2)$\n",
    "\n",
    "$\\boxed{\\vec u \\cdot \\vec u = -1}$ (time-like, normalized vector)"
   ]
  },
  {
   "cell_type": "markdown",
   "metadata": {},
   "source": [
    "### Momentum\n",
    "For a particle with rest mass m: $\\vec p \\doteq m \\vec u = (E,p _ x,p _ y,p _ z)= (E,\\pmb p)$\n",
    "\n",
    "For a photon: $\\vec p = \\hbar \\omega (1,\\hat h)$ where $\\hat h$ is a unit vector specifing direction\n",
    "\n",
    "$\\vec p \\cdot \\vec p = m^2 \\vec u \\cdot \\vec u = - m^2 = -E^2 + | \\pmb p | ^2$\n",
    "\n",
    "$\\boxed{E^2 = m^2  + | \\pmb p  | ^2}$\n",
    "\n",
    "Knowing that $\\vec p$ is the 4-momentum of a particle and \n",
    "$\\vec u$ is the 4-velocity of an observer $O$, what is the energy of the particle $E_O$ measured by observer $O$ \n",
    "\n",
    "In $O$ reference frame we have $\\vec p = (E_O,\\pmb p_O)$ and $\\vec u = (1, 0) \\implies$\n",
    "\n",
    "$\\boxed{E_O = -\\vec p \\cdot \\vec u}$ (energy is invariant in all reference frames)\n",
    "\n",
    "\n",
    "\n",
    "### Acceleration\n",
    "\n",
    "$\\vec a \\doteq \\frac{d\\vec u}{d\\tau}$\n",
    "\n",
    "$\\vec u \\cdot \\vec a = \\vec u \\cdot \\frac{d\\vec u}{d\\tau} =  \\frac{d(\\vec u \\cdot\\vec u)}{d\\tau} =0$ because $\\vec u \\cdot \\vec u = -1$"
   ]
  },
  {
   "cell_type": "markdown",
   "metadata": {},
   "source": [
    "# Tensors\n",
    "Tensors of type is $\\binom 0N$ are linear functions mapping N vectors to a Lorentz invariant scalar.\n",
    "We will use $\\binom 02$ **Metric** tensor to show  $\\binom 0N$ general tensor properties.\n",
    "\n",
    "$\\pmb \\eta(\\vec A,\\vec B) \\equiv \\vec A \\cdot \\vec B=A^\\alpha B^\\beta \\eta _ {\\alpha\\beta} = b$  \n",
    "$\\pmb \\eta(k \\vec A,\\vec B) = k \\pmb \\eta(\\vec A,\\vec B) = k \\vec A \\cdot \\vec B = kb$  \n",
    "$\\pmb \\eta(\\vec A,\\vec B + \\vec C) = \\pmb \\eta( \\vec A,\\vec B) + \\pmb  \\eta(\\vec A,\\vec C) = \\vec A \\cdot \\vec B + \\vec A \\cdot \\vec C$\n",
    "\n",
    "To get an observer representation of the tensor we use the observer basis vectors.\n",
    "\n",
    "$\\pmb \\eta(\\vec e _ \\alpha,\\vec e _ \\beta) = \\eta _ {\\alpha \\beta}$  \n",
    "$\\pmb \\eta (\\vec e _ {\\bar \\alpha},\\vec e _ {\\bar \\beta}) = \\eta _ {\\bar \\alpha \\bar \\beta} = \\pmb \\eta({\\Lambda ^ \\mu} _ {\\bar \\alpha} \\vec e _ \\mu,{\\Lambda ^ \\nu} _ {\\bar \\beta} \\vec e _ \\nu)$  \n",
    "$\\eta _ {\\bar \\alpha \\bar \\beta} = {\\Lambda ^ \\mu} _ {\\bar \\alpha} {\\Lambda ^ \\nu} _ {\\bar \\beta} \\pmb \\eta( \\vec e _ \\mu, \\vec e _ \\nu)$\n",
    "\n",
    "$\\boxed{\\eta _ {\\bar \\alpha \\bar \\beta} = {\\Lambda ^ \\mu} _ {\\bar \\alpha} {\\Lambda ^ \\nu} _ {\\bar \\beta} \\eta _ {\\mu\\nu}}$"
   ]
  },
  {
   "cell_type": "markdown",
   "metadata": {},
   "source": [
    "## 0,1 Tensors (“1-forms” or “dual vectors”)\n",
    "### Basis 1-forms\n",
    "We define a basis 1-forms basis set {$\\pmb \\omega^\\alpha$}\n",
    "so any 1-form can be written as:  \n",
    "$\\pmb p = p_\\alpha \\pmb \\omega^\\alpha$  \n",
    "We know that \n",
    "$p _ \\alpha A^\\alpha = \\pmb p (\\vec A)$ and $p _ \\alpha = \\pmb p (\\vec e _ \\alpha)$ so  \n",
    "$\\pmb  p (\\vec A) = p _ \\beta {\\pmb \\omega}^\\beta(A^\\alpha \\vec e _ \\alpha)=p _ \\beta A^\\alpha {\\pmb \\omega}^\\beta(\\vec e _ \\alpha)=p _ \\alpha A^\\alpha$  \n",
    "This requires that $\\pmb \\omega^\\beta (\\vec e _ \\alpha) = {\\delta^\\beta} _\\alpha$ similar to $(\\vec e _ \\alpha)^\\beta ={\\delta^\\beta} _\\alpha$"
   ]
  },
  {
   "cell_type": "markdown",
   "metadata": {},
   "source": [
    "### 1-form Sample: Gradient\n",
    "1-form gradient is the generalization of the 3-vector gradient $\\pmb \\nabla \\phi$ for a scalar field $\\phi(t,x,y,z)$  \n",
    "$\\vec u = \\frac{d\\vec x}{d\\tau}\\\\\n",
    "\\frac{d\\phi}{d\\tau} = \\frac{dx^\\alpha}{d\\tau}\\frac{\\partial \\phi}{\\partial x^\\alpha} \n",
    "= u^\\alpha \\partial _ \\alpha \\phi \\equiv \\nabla _ {\\vec u} \\phi$ where $\\pmb d \\phi = \\{ \\partial _ \\alpha \\phi \\}$ is the 1-form **Gradient** tensor  \n",
    "What are the basis of the **Gradient** tensor?  \n",
    "$\\partial_\\beta x^\\alpha = {\\delta^\\alpha}_\\beta \\implies \\pmb \\omega ^ \\alpha = \\pmb d x^\\alpha$"
   ]
  },
  {
   "cell_type": "markdown",
   "metadata": {},
   "source": [
    "### 0,2 tensors to 1-forms\n",
    "Let's define a 1-form for each vector $\\vec A$  \n",
    "$\\pmb A (\\vec X) = \\pmb \\eta(\\vec A,\\vec X)$ for any vector $\\vec X$  \n",
    "$A_\\alpha = \\pmb A(\\vec e_\\alpha) = \\pmb \\eta(\\vec A,\\vec e_\\alpha) = \\pmb \\eta(A^\\beta \\vec e_\\beta,\\vec X)\\\\A_\\alpha = \\eta_{\\alpha\\beta} A^\\beta$  \n",
    "The *covariant* **Metric** tensor $\\eta_{\\alpha\\beta}$ convert a vector into a 1-form by lowering indices.  \n",
    "We define the *contravariant* **Metric** tensor $\\eta^{\\alpha\\beta}$ so that $\\eta^{\\alpha\\beta} \\eta_{\\beta\\gamma} = {\\delta^\\alpha}_\\gamma$  \n",
    "$\\vec A \\cdot \\vec B = \\pmb \\eta(\\vec A ,\\vec B) = \\pmb  A(\\vec B) = \\pmb  B(\\vec A) = \\vec A(\\pmb  B)=\\vec B(\\pmb A) = \\eta_{\\alpha\\beta} A^\\alpha B^\\beta = \\eta^{\\alpha\\beta}A_\\alpha B_\\beta$"
   ]
  },
  {
   "cell_type": "markdown",
   "metadata": {},
   "source": [
    "## General Tensor Definition\n",
    "A tensor of type $\\binom NM$ is a linear mapping of M 1-forms and N vectors to a Lorentz invariant scalar.  \n",
    "The metric can convert the nature of tensor slots.  \n",
    "$\\binom MN \\overset {lower}\\longrightarrow \\binom{M-1}{N+1}$  ex:  $\\eta_{\\alpha\\mu}{\\pmb R^\\mu}_{\\beta\\gamma\\delta} \\overset {lower}\\longrightarrow \\pmb R_{\\alpha\\beta\\gamma\\delta}$  \n",
    "$\\binom MN \\underset {raise}\\longrightarrow \\binom{M-1}{N+1}$  ex:  $\\eta^{\\alpha\\mu}\\pmb S_{\\mu\\beta\\gamma\\delta} \\underset {raise}\\longrightarrow {\\pmb S^\\alpha}_{\\beta\\gamma\\delta}$  \n",
    "The basis are outer products of each tensor rank.  \n",
    "${\\pmb R^\\alpha}_{\\beta\\gamma\\delta} = {\\pmb R^\\alpha}_{\\beta\\gamma\\delta} \\; \\vec e_\\alpha \\otimes \\pmb \\omega^\\beta \\otimes \\pmb \\omega^\\gamma \\otimes \\pmb \\omega^\\delta$"
   ]
  },
  {
   "cell_type": "markdown",
   "metadata": {},
   "source": [
    "# Continuous matter\n",
    "## Dust\n",
    "Dust is a collection of particles with rest mass that do not interact with each other.\n",
    "Each element volume of the dust cloud has a rest frame.\n",
    "There is a density associated for each volume element.\n",
    "### The number density\n",
    "$n_0 \\equiv$ the number density (per volume) in the rest frame of the element. \n",
    "Moving out of the rest frame the number is the same but the volume Lorentz contracts along the direction of movement so $n = \\gamma n_0$  \n",
    "The flow number density\n",
    "$\\pmb n \\equiv$ the number of particles crossing through the unit area in a unit time  \n",
    "$\\pmb n = n \\pmb v = \\gamma n_0 \\pmb v$  \n",
    "We define 4-vector $\\vec N \\doteq (n,n \\pmb v) = n_0 (\\gamma,\\gamma \\pmb v) = n_0 \\vec u$  \n",
    "$\\vec N \\cdot \\vec N = - n_0^2$ or $n_0 = \\sqrt{-\\vec N \\cdot \\vec N}$"
   ]
  },
  {
   "cell_type": "markdown",
   "metadata": {},
   "source": [
    "### Flux across a surface\n",
    "The flux of $\\vec N$ in the $x^\\alpha$ direction is ${\\pmb d x^\\alpha}_\\beta N^\\beta$  \n",
    "Generally we define a surface as a solution of some scalar function $\\phi(t,x,y,z) = constant$  \n",
    "The 1-form associated with the surface is $\\pmb d \\phi$.  \n",
    "So we have the flux assciated to the surface $(\\pmb d \\phi)_\\alpha N^\\alpha$  \n",
    "Conservation Law of the Flux Diferential Form is:  \n",
    "$\\frac {\\partial n}{\\partial t} = - \\pmb \\nabla \\pmb N \\implies \\boxed{\\partial _\\alpha N^\\alpha = 0}$ "
   ]
  },
  {
   "cell_type": "markdown",
   "metadata": {},
   "source": [
    "## Volumes and volumes integrals\n",
    "### 3D Space \n",
    "We consider a Parallelepped generated by 3 vectors $\\vec A, \\vec B, \\vec C$.  \n",
    "Volume $V = \\vec A \\cdot (\\vec B \\times \\vec C) = \\vec B \\cdot (\\vec C \\times \\vec A) = \\vec C \\cdot (\\vec A \\times \\vec B)$  \n",
    "$V = \\begin{Vmatrix} A^1 & A^2 & A^3 \\\\ B^1 & B^2 & B^3 \\\\ C^1 & C^2 & C^3 \\end{Vmatrix} = \\epsilon_{ijk}A^i B^j C^k = \\pmb \\epsilon(\\pmb A,\\pmb B, \\pmb C)$  \n",
    "Levi-Civita symbol $\\epsilon_{ijk}$ is +1 for even permutations, -1 for odd permutations or 0 for any index repeated  \n",
    "Levi Civita is a $\\binom 03$ tensor  \n",
    "Let's define a 1-form $\\Sigma_i = \\pmb \\epsilon(-,\\pmb B,\\pmb C) = \\epsilon_{ijk} B^j C^k$ whose magnitude is the area defined by $\\vec B, \\vec C$ side of the volume   \n",
    "\n",
    "Gauss's theorem $\\int \\limits_{V^3} (\\pmb \\nabla \\pmb A) dV = \\int \\limits_{\\partial V^3} \\pmb A d \\pmb \\Sigma$  \n",
    "Define a triple diferential $d\\vec x_1, d\\vec x_2, d\\vec x_3$ for each direction so $dV = \\epsilon_{ijk}dx_1^i dx_2^j dx_3^k$ and $d\\Sigma_i = \\epsilon_{ijk} dx_2^j dx_3^k$ (you can choose any face surface)"
   ]
  },
  {
   "cell_type": "markdown",
   "metadata": {},
   "source": [
    "### Space Time Generalization\n",
    "Imagine a Spacetime Parallelepped generated by 4-vectors edges $\\vec A, \\vec B, \\vec C, \\vec D$.  \n",
    "We define the invariant 4-Volume $\\equiv \\epsilon_{\\alpha\\beta\\gamma\\delta} A^\\alpha B^\\beta C^\\gamma D^\\delta$  \n",
    "4-Volume surface is a 3-Volume (4-area) $\\Sigma_\\alpha \\equiv \\epsilon_{\\alpha\\beta\\gamma\\delta}B^\\beta C^\\gamma D^\\delta$  \n",
    "\n",
    "Generalized Gauss's theorem for a vector field V:  \n",
    "$\\boxed{\\int \\limits_{V^3} (\\partial_\\alpha V^\\alpha) d^4x = \\int \\limits_{\\partial V^4} V^\\alpha d\\Sigma_\\alpha}$ where \n",
    "$d^4x = \\epsilon_{\\alpha\\beta\\gamma\\delta} dx_0^\\alpha dx_1^\\beta dx_2^\\gamma dx_3^\\delta$ and \n",
    "$d\\Sigma_\\alpha = \\epsilon_{\\alpha\\beta\\gamma\\delta} dx_1^\\beta dx_2^\\gamma dx_3^\\delta$"
   ]
  },
  {
   "cell_type": "code",
   "execution_count": 1,
   "metadata": {},
   "outputs": [
    {
     "data": {
      "image/png": "[encoded data removed]",
      "text/plain": [
       "<Figure size 1440x720 with 1 Axes>"
      ]
     },
     "metadata": {
      "needs_background": "light"
     },
     "output_type": "display_data"
    }
   ],
   "source": [
    "%matplotlib inline\n",
    "import numpy as np\n",
    "import matplotlib.pyplot as plt\n",
    "plt.figure(figsize=(20, 10))\n",
    "t1=2\n",
    "t2=3\n",
    "x1=3\n",
    "x2=7\n",
    "\n",
    "plt.hlines(t1,x1,x2, linewidth=3,color=\"blue\")\n",
    "plt.axhline(y=t1, color=\"black\", linestyle=\"--\")\n",
    "plt.annotate(r'$t_1$',xy=(0,0),xytext=(-0.3,t1),fontsize=24) \n",
    "\n",
    "plt.hlines(t2,x1,x2, linewidth=3,color=\"blue\")\n",
    "plt.axhline(y=t2, color=\"black\", linestyle=\"--\")\n",
    "plt.annotate(r'$t_2$',xy=(0,0),xytext=(-0.3,t2),fontsize=24) \n",
    "\n",
    "plt.vlines(x1,t1,t2, linewidth=3,color=\"blue\")\n",
    "plt.axvline(x=x1,color=\"black\", linestyle=\"--\")\n",
    "plt.annotate(r'$x_1$',xy=(0,0),xytext=(x1,-0.3),fontsize=24) \n",
    "\n",
    "plt.vlines(x2,t1,t2, linewidth=3,color=\"blue\")\n",
    "plt.axvline(x=x2,color=\"black\", linestyle=\"--\")\n",
    "plt.annotate(r'$x_2$',xy=(0,0),xytext=(x2,-0.3),fontsize=24) \n",
    "\n",
    "plt.annotate(r'$V^4$',xy=(0,0),xytext=((x1+x2)/2,(t1+t2)/2),fontsize=24) \n",
    "plt.annotate(r'$\\partial V^4$',\n",
    "    xy=((x1+x2)/2,t2),xytext=((x1+x2)/2+1,t2+1),\n",
    "    fontsize=24,arrowprops={'arrowstyle':'->'}) \n",
    "\n",
    "plt.xlim(0, 10)\n",
    "plt.ylim(0, 5)\n",
    "ax = plt.gca()\n",
    "ax.xaxis.set_ticklabels([])\n",
    "ax.yaxis.set_ticklabels([])\n",
    "plt.show()"
   ]
  },
  {
   "cell_type": "markdown",
   "metadata": {},
   "source": [
    "Now because $\\partial_\\alpha N^\\alpha = 0 \\implies \\int \\limits_{\\partial V^4} N^\\alpha d\\Sigma_\\alpha = 0$  \n",
    "Let's consider a spacetime volume between $[t_1,t_2]$ and $[x_1,x_2]$. The spacetime volume has 8 faces (a N-dimensional volume has 2N faces)  \n",
    "$\\int \\limits_{\\partial V^4} N^\\alpha d\\Sigma_\\alpha = (\\int \\limits_{t=t_2} N^0 dxdydz - \\int \\limits_{t=t_1} N^0 dxdydz) + (\\int \\limits_{x=x_2} N^1 dtdydz - \\int \\limits_{x=x_1} N^1 dtdydz) + ... = 0$  \n",
    "Assume the Volume is very small in time-like direction $t_2 \\to t_1+dt$  \n",
    "\n",
    "$\\int \\limits_{\\partial V^4} N^\\alpha d\\Sigma_\\alpha = (\\int \\limits_{t=t_1+dt} N^0 dxdydz - \\int \\limits_{t=t_1} N^0 dxdydz) + (\\int \\limits_{x=x_2} N^1 dtdydz - \\int \\limits_{x=x_1} N^1 dtdydz) + ... = 0$  \n",
    "$\\int \\limits_{t=t_1+dt} N^0 dxdydz - \\int \\limits_{t=t_1} N^0 dxdydz = -dt \\left[ (\\int \\limits_{x=x_2} N^1 dydz - \\int \\limits_{x=x_1} N^1 dydz) + ... \\right]$  \n",
    "\n",
    "$\\frac{\\int \\limits_{t=t_1+dt} N^0 dxdydz - \\int \\limits_{t=t_1} N^0 dxdydz}{dt} = - \\left[ (\\int \\limits_{x=x_2} N^1 dydz - \\int \\limits_{x=x_1} N^1 dydz) + ... \\right]$  \n",
    "\n",
    "$\\boxed{\\frac\\partial{\\partial t} \\int \\limits_{V^3} N^0 d^3x = - \\int \\limits_{\\partial V^3} \\pmb N d\\pmb a}$ (conservation law integral form)"
   ]
  },
  {
   "cell_type": "markdown",
   "metadata": {},
   "source": [
    "## Electric 4-current density\n",
    "$\\vec J \\doteq (\\rho,\\pmb J)$ where $\\rho$ is the charge density ($c\\rho$ if $c \\neq 1$) and $\\pmb J$ is the 3-vector Current Density  \n",
    "In electromagnetism we have the conservation of charge law $\\frac{\\partial \\rho}{\\partial t} = - \\pmb \\nabla \\pmb J \\implies \\boxed{\\partial _\\alpha J^\\alpha = 0}$"
   ]
  },
  {
   "cell_type": "markdown",
   "metadata": {},
   "source": [
    "### Maxwell's equations \n",
    "\n",
    "[Maxwell's Equation in Gaussian Units](https://en.wikipedia.org/wiki/Maxwell%27s_equations#Formulation_in_Gaussian_units_convention) when $c=1$\n",
    "\n",
    "| Name                   |                                   Differential                                  |                        By Components                        |\n",
    "|------------------------|:-------------------------------------------------------------------------------:|:-----------------------------------------------------------:|\n",
    "| Gauss                  | $\\pmb \\nabla \\cdot \\pmb E = 4 \\pi \\rho$                                         | $\\partial_i E_i = 4 \\pi J^0$                                |\n",
    "| Gauss for magnetism    | $\\pmb \\nabla \\cdot \\pmb B = 0$                                                  | $\\partial_i B_i = 0$                                        |\n",
    "| Maxwell–Faraday        | $\\pmb \\nabla \\times \\pmb E + \\frac{\\partial \\pmb B}{\\partial t} = 0$            | $\\epsilon_{ijk}\\partial_j E_k + \\partial_0 B_i = 0$         |\n",
    "| Ampère's circuital law | $\\pmb \\nabla \\times \\pmb B - \\frac{\\partial \\pmb E}{\\partial t} = 4 \\pi \\pmb J$ | $\\epsilon_{ijk}\\partial_j B_k + \\partial_0 E_i = 4 \\pi J_i$ |\n",
    "\n",
    "In 4-vectors we define the electromagnetic tensor F (antisymmetric, zero diagonal):  \n",
    "$F^{0i} = E^i$ ($\\frac{E^i}{c}$ if $c \\neq 1$)  \n",
    "$F^{ij} = \\epsilon_{ijk} B_k$  \n",
    "$F^{i0} = -E^i$   \n",
    "\n",
    "$F^{\\mu\\nu} \\equiv \\begin{pmatrix} \n",
    "   0 &  E_x &  E_y &  E_z \\\\\n",
    "-E_x &    0 &  B_z & -B_y \\\\\n",
    "-E_y & -B_z &    0 &  B_x \\\\\n",
    "-E_z &  B_y & -B_x &    0\n",
    "\\end{pmatrix}$ and \n",
    "$F_{\\mu\\nu} = \\eta_{\\mu\\alpha} \\eta_{\\nu\\beta} F^{\\alpha\\beta} = F^{\\alpha\\beta} \\eta_{\\alpha\\mu} \\eta_{\\beta\\nu} = \\begin{pmatrix} \n",
    "   0 & -E_x & -E_y & -E_z \\\\\n",
    " E_x &    0 &  B_z & -B_y \\\\\n",
    " E_y & -B_z &    0 &  B_x \\\\\n",
    " E_z &  B_y & -B_x &    0\n",
    "\\end{pmatrix}$  \n",
    "So Maxwell's equations become:  \n",
    "\n",
    "$\\boxed{\\partial_\\nu F^{\\nu\\mu} = 4 \\pi J^\\mu} \\\\  \n",
    "\\boxed{\\partial_\\mu F_{\\nu\\lambda} + \\partial_\\nu F_{\\lambda\\mu} + \\partial_\\lambda F_{\\mu\\nu} = 0}$"
   ]
  },
  {
   "cell_type": "markdown",
   "metadata": {},
   "source": [
    "### Divergence of the current\n",
    "$\\begin{align*}\n",
    "4 \\pi \\partial_\\mu J^\\mu & = \\partial_\\mu\\partial_\\nu F^{\\mu\\nu} &\\\\ \n",
    "& = \\partial_\\nu\\partial_\\mu F^{\\nu\\mu} &\\longleftarrow\\text{ re-label dummy indices} \\\\\n",
    "& = - \\partial_\\nu\\partial_\\mu F^{\\mu\\nu} &\\longleftarrow\\text{ antisymmetry} \\\\\n",
    "& = - \\partial_\\mu\\partial_\\nu F^{\\mu\\nu} &\\longleftarrow\\text{ symmetry of partial derivative} \\\\\n",
    "& = 0 & \\text{(conservation of current law)}\n",
    "\\end{align*}$"
   ]
  },
  {
   "cell_type": "markdown",
   "metadata": {},
   "source": [
    "## Stress-Energy Tensor\n",
    "Let's consider energy and momentum of the particles in the dust cloud. Suppose each particle has the same rest mass $m$.  \n",
    "The rest energy density is $\\rho_0 = m n_0$ ($\\underset{c \\neq 1}{=} m c^2 n_0$)  \n",
    "Get the energy density for a frame moving with $\\pmb v$ relative to the rest frame we have: $\\rho=(\\gamma m)(\\gamma n_0)=\\gamma^2 \\rho_0$  \n",
    "The number density goes up because length contraction,  relative mass goes up by $\\gamma$. This is not a invariant scalar.  \n",
    "We assembled $\\rho$ by combining time-like component of momentum 4-vector $\\vec p$ with time-like component of number density 4-vector $\\vec N$.  \n",
    "$\\pmb T = \\vec N \\otimes \\vec p = n_0 m \\, \\vec u \\otimes \\vec u = \\rho_0 \\vec u \\otimes \\vec u$  \n",
    "$\\boxed{T^{\\alpha\\beta} = \\rho_0 u^\\alpha u^\\beta}$  \n",
    "$T^{\\alpha\\beta} = \\pmb T(\\pmb d x^\\alpha,\\pmb d x^\\beta)$ = flux of $\\alpha$ component of 4-momentum in the $\\beta$ direction  \n",
    "$\\begin{align*}\n",
    "T^{00} & = \\gamma^2 \\rho_0 = \\rho & \\text{energy density}\\\\\n",
    "T^{0i} & = \\gamma^2 \\rho_0 v^i & \\text{energy flux}\\\\\n",
    "T^{i0} & = \\gamma^2 \\rho_0 v^i & \\text{momentum density}\\\\\n",
    "T^{ij} & = \\gamma^2 \\rho_0 v^i v^j & \\text{momentum flux}\n",
    "\\end{align*}$"
   ]
  }
 ],
 "metadata": {
  "interpreter": {
   "hash": "26093e5d8a9171d3b0714478172b320e1b96508a0e407351befc25d4970ad90f"
  },
  "kernelspec": {
   "display_name": "Python 3.9.2 64-bit",
   "name": "python3"
  },
  "language_info": {
   "codemirror_mode": {
    "name": "ipython",
    "version": 3
   },
   "file_extension": ".py",
   "mimetype": "text/x-python",
   "name": "python",
   "nbconvert_exporter": "python",
   "pygments_lexer": "ipython3",
   "version": "3.9.7"
  },
  "metadata": {
   "interpreter": {
    "hash": "26093e5d8a9171d3b0714478172b320e1b96508a0e407351befc25d4970ad90f"
   }
  },
  "orig_nbformat": 2
 },
 "nbformat": 4,
 "nbformat_minor": 2
}
