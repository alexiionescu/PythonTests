{
 "cells": [
  {
   "cell_type": "markdown",
   "metadata": {},
   "source": [
    "# Postulates\n",
    "## Postulate 1\n",
    "The state of a quantum-mechanical system is completely specified by a function $\\Psi(\\pmb r,t)$ that\n",
    "depends on the coordinates of the particle and on time.  \n",
    "This function, called the wave\n",
    "function or state function, has the important property that $\\Psi^*(\\pmb r,t) \\Psi(\\pmb r,t) dxdydz$  is the\n",
    "probability that the particle lies in the volume element dxdydz located at r at time t.\n",
    "\n",
    "## Postulate 2\n",
    "To every observable in classical mechanics there corresponds a linear, Hermitian operator in\n",
    "quantum mechanics.\n",
    "\n",
    "## Postulate 3\n",
    "In any measurement of the observable associated with the operator $\\hat A$, the only values that\n",
    "will ever be observed are the eigenvalues $a_n$, which satisfy the eigenvalue equation $\\hat A \\Psi_a = a_n\\Psi_a$\n",
    "\n",
    "## Postulate 4\n",
    "If a system is in a state described by a normalized $\\left(\\int \\limits_{-\\infty}^\\infty \\Psi^* \\Psi d\\tau = 1\\right)$ wave function $\\Psi$ (or $|\\Psi\\rangle$),  \n",
    "then the average value of\n",
    "the observable corresponding to $\\hat A$ is given by  \n",
    "$\\langle \\hat A \\rangle \\equiv \\langle \\Psi | \\hat A | \\Psi \\rangle = \\int \\limits_{-\\infty}^\\infty \\Psi^* \\hat A \\Psi d\\tau$\n",
    "\n",
    "## Postulate 5\n",
    "The wave function or state function of a system evolves in time according to the time-dependent Schrödinger equation."
   ]
  },
  {
   "cell_type": "markdown",
   "metadata": {},
   "source": [
    "# Operators\n",
    "\n",
    "Quantum Physics Operators are Hermitian (self-adjoint) $\\hat A^\\dagger = \\hat A$ so $\\langle \\hat A \\phi | \\psi\\rangle = \\langle \\phi|\\hat A \\psi\\rangle$  \n",
    "If $\\{|\\psi_i\\rangle\\}$ is a basis vectors set then $\\hat A$ is a matrix with elements $A_{ij} = \\langle \\psi_i | \\hat A | \\psi_j \\rangle$  \n",
    "Because $\\hat A$ is Hermitian then $A_{ij}=A_{ji}^*$ (complex conjugates over main diagonal)\n",
    "\n",
    "## Commutation\n",
    "We define the commutator $[\\hat A,\\hat B] \\equiv \\hat A \\hat B - \\hat B \\hat A$  \n",
    "We have this properties (hat is implied)  \n",
    "1. $[A,B+C] = [A,B] + [A,C]$  \n",
    "2. $[AB,C]=A[B,C]+[A,C]B$  \n",
    "3. $[A,BC]=[A,B]C+B[A,C]$  \n",
    "\n"
   ]
  },
  {
   "cell_type": "markdown",
   "metadata": {},
   "source": [
    "# Schrödinger equation\n",
    "## Time-dependent Form\n",
    "$\\boxed{\\hat{H}\\Psi (\\pmb{r},t)=i\\hbar \\frac{\\partial \\Psi (\\pmb{r},t)}{\\partial t}}$\n",
    "\n",
    "## Time-independent Form\n",
    "Using separation of variables and assuming time-independent $\\hat H$ we have $\\Psi(\\pmb{r},t)=T(t)\\psi(\\pmb{r})$  \n",
    "$T(t) \\hat{H}\\psi (\\bar{r})=i \\hbar \\psi (\\pmb{r}) T'(t) \\implies \\frac{\\hat{H} \\psi (\\pmb{r})}{\\psi (\\pmb{r})}=\\frac{i \\hbar T'(t)}{T(t)}=E \\implies$  \n",
    "$\\boxed{\\hat{H} \\psi (\\pmb{r}) = E \\psi (\\pmb{r})}$ and $\\Psi (\\pmb{r},t) = \\psi (\\pmb{r}) e^{-\\frac{iEt}{\\hbar}}$  \n",
    "The Hamiltonian(Energy operator) is  \n",
    "$\\boxed{\\hat H = \\frac{{ \\hat {\\pmb p}}^2}{2m} + \\hat V}$  \n",
    "The momentum operator is:  \n",
    "$\\boxed{\\hat {\\pmb p} = -i\\hbar\\nabla}$  \n",
    "The potential energy operator is $\\hat V = V(\\pmb r)$  \n",
    "So the Hamiltonian becomes:  \n",
    "$\\boxed{\\hat H = -\\frac{\\hbar^2}{2m}\\nabla^2 + V(\\pmb r)}$  "
   ]
  },
  {
   "cell_type": "markdown",
   "metadata": {},
   "source": [
    "## Free particle\n",
    "$\\frac{\\partial^2 \\psi(x)}{\\partial x^2} = - \\frac{2m}{\\hbar^2}(E-V_0)\\psi(x)$  \n",
    "Assuming $k^2 = \\frac{2m}{\\hbar^2}(E-V_0) \\implies \\frac{\\partial^2 \\psi(x)}{\\partial x^2} = -k^2 \\psi(x)$  \n",
    "this has the general solution  \n",
    "$\\psi(x) = ae^{ikx} + be^{-ikx} \\implies E_k = \\frac{\\hbar^2 k^2}{2m} +V_0$"
   ]
  },
  {
   "cell_type": "markdown",
   "metadata": {},
   "source": [
    "## Particle in an infinite 1-D box\n",
    "Potential is described by  \n",
    "$V(x) = \\begin{cases} = 0 & \\text{if  } x \\in [0,a] \\\\ =\\infty & \\text{otherwise} \\end{cases}$\n",
    "\n",
    "$\\psi(x)$ must be continous everywhere and $\\psi(0)=\\psi(a)=0$  \n",
    "$\\frac{d^2 \\psi(x)}{d x^2} = - \\frac{2mE}{\\hbar^2}\\psi(x) = -k^2\\psi(x)$  \n",
    "$\\psi(x) = A \\sin kx + B \\cos kx$  \n",
    "$\\psi(0) = 0 \\implies B=0$  \n",
    "$\\psi(a) = A \\sin ka = 0 \\implies k = \\frac{n\\pi}{a}$  \n",
    "$\\psi(x) = A \\sin \\frac{n\\pi}{a}x$  \n",
    "Normalize $\\int \\limits_0^a dx \\psi^* \\psi = 1 \\implies A = \\left(\\frac 2 a \\right)^{1/2}$\n",
    "\n",
    "$\\boxed{\\psi_n = \\left(\\frac 2 a \\right)^{1/2} \\sin \\frac{n\\pi}{a}x }$\n",
    "\n",
    "$\\hat H \\psi_n = \\frac{\\hbar^2}{2m} {\\left(\\frac{n\\pi}{a}\\right)}^2 \\psi_n = E_n \\psi_n$  \n",
    "$\\boxed{E_n = n^2 \\frac{h^2}{8ma^2} = n^2 E_1}$ where $n = 1,2,3,\\dots$  \n",
    "$E_n$ has n - 1 nodes"
   ]
  },
  {
   "cell_type": "markdown",
   "metadata": {},
   "source": [
    "## Particle in an infinite 3-D box\n",
    "$\\hat H = \\sum \\limits_{i=1}^n\\hat h_i(q_i)$  then  $\\psi = \\prod \\limits_{i=1}^n\\psi_i(q_i)$ and $E = \\sum \\limits_{i=1}^nE_i$  \n",
    "Now consider  \n",
    "$V(x,y,z) = V(q_1,q_2,q_3) = \\begin{cases} = 0 & \\text{if  } x \\in [0,a_1] \\land y \\in [0,a_2] \\land z \\in [0,a_3] \\\\ =\\infty & \\text{otherwise} \\end{cases}$\n",
    "\n",
    "$V = V_x+V_y+V_z=V_{q_1}+V_{q_2}+V_{q_3}$\n",
    "\n",
    "$\\hat h_i=-\\frac{\\hbar^2}{2m} \\frac{\\partial^2}{\\partial q_i} + V_{q_i}(\\hat q_i)$  \n",
    "$\\hat H\\psi = \\left[\\sum \\limits_{i}\\hat h_i(q_i)\\right]\\psi = E\\psi$  \n",
    "$\\left[\\sum \\limits_{i}\\hat h_i(q_i)\\right]\\prod \\limits_{j}\\psi_j(q_j) = E\\psi$  \n",
    "$\\sum \\limits_{i} \\left(\\left[\\hat h_i(q_i)\\right]\\prod \\limits_{j}\\psi_j(q_j)\\right) = E\\psi$  \n",
    "$\\sum \\limits_{i} \\left(\\prod \\limits_{i \\neq j}\\psi_j(q_j)\\left[\\hat h_i(q_i)\\right]\\psi_i(q_i)\\right) = E\\psi$  \n",
    "$\\left[\\hat h_i(q_i)\\right]\\psi_i(q_i) = E_i\\psi_i(q_i) \\implies$  \n",
    "$\\sum \\limits_{i} E_i\\left(\\prod \\limits_{j}\\psi_j(q_j)\\right) = E\\psi$  \n",
    "$\\left(\\sum \\limits_{i} E_i\\right)\\psi = E\\psi \\implies E = \\sum \\limits_{i} E_i$  \n",
    "Let's look at equation  \n",
    "$\\left[\\hat h_i(q_i)\\right]\\psi_i(q_i) = E_i\\psi_i(q_i)$  \n",
    "This is the 1-D problem for coordinate $q_i$ and has the eigenstate and eigenvalue:  \n",
    "$\\psi_i = {\\left(\\frac 2 {a_i}\\right)}^{1/2} \\sin\\frac{ n_i \\pi q_i}{a_i}$  \n",
    "$E_i = n_i^2 \\frac{h^2}{8ma_i^2}$"
   ]
  },
  {
   "cell_type": "markdown",
   "metadata": {},
   "source": [
    "## Harmonic Oscilator\n",
    "\n",
    "$\\hat V(x) = \\frac 1 2 k {\\hat x}^2 = \\frac 1 2 m \\omega^2 {\\hat x}^2$ So $\\hat H = \\frac {{\\hat p}_x^2}{2m} + \\frac 1 2 m \\omega^2 {\\hat x}^2$  \n",
    "Now let's define two operators  \n",
    "$\\hat a \\equiv \\frac 1 {\\sqrt 2} \\left[ \\left( \\frac {m\\omega} \\hbar \\right)^{1/2} \\hat x + \\frac i \\hbar \\left( \\frac {m\\omega} \\hbar \\right)^{-1/2} \\hat p_x\\right]$ (\"annihilation operator\" or the \"lowering operator\")  \n",
    "$\\hat a^\\dagger \\equiv \\frac 1 {\\sqrt 2} \\left[ \\left( \\frac {m\\omega} \\hbar \\right)^{1/2} \\hat x - \\frac i \\hbar \\left( \\frac {m\\omega} \\hbar \\right)^{-1/2} \\hat p_x\\right]$ (\"creation operator\" or the \"raising operator\")  \n",
    "Then $\\hat H = \\hbar \\omega \\left( \\hat a^\\dagger \\hat a + \\frac 1 2 \\right) = \\hbar \\omega \\left(  \\hat a \\hat a^\\dagger - \\frac 1 2 \\right)$  \n",
    "Also we have commutators relations\n",
    "- $[\\hat a,\\hat a^\\dagger] = 1$  \n",
    "- $[\\hat H,\\hat a] = -\\hbar\\omega\\hat a$"
   ]
  }
 ],
 "metadata": {
  "kernelspec": {
   "display_name": "Python 3.9.2 64-bit",
   "name": "python392jvsc74a57bd026093e5d8a9171d3b0714478172b320e1b96508a0e407351befc25d4970ad90f"
  },
  "language_info": {
   "codemirror_mode": {
    "name": "ipython",
    "version": 3
   },
   "file_extension": ".py",
   "mimetype": "text/x-python",
   "name": "python",
   "nbconvert_exporter": "python",
   "pygments_lexer": "ipython3",
   "version": "3.9.2-final"
  },
  "metadata": {
   "interpreter": {
    "hash": "26093e5d8a9171d3b0714478172b320e1b96508a0e407351befc25d4970ad90f"
   }
  },
  "orig_nbformat": 2
 },
 "nbformat": 4,
 "nbformat_minor": 2
}
