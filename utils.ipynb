{
 "cells": [
  {
   "cell_type": "code",
   "execution_count": 1,
   "metadata": {
    "tags": []
   },
   "outputs": [
    {
     "name": "stdout",
     "output_type": "stream",
     "text": [
      "2012-08-20T09:22:45\n"
     ]
    }
   ],
   "source": [
    "from datetime import datetime,timedelta\n",
    "\n",
    "timestamp = float(input(\"Insert UTC timestamp\"))\n",
    "print(datetime.fromtimestamp(timestamp).isoformat())"
   ]
  },
  {
   "cell_type": "code",
   "execution_count": 11,
   "metadata": {},
   "outputs": [
    {
     "name": "stdout",
     "output_type": "stream",
     "text": [
      "file not found -> /opt/homebrew/opt/python@3.12/Frameworks/Python.framework/Versions/3.12/lib/python3.12/EXTERNALLY-MANAGED\n"
     ]
    }
   ],
   "source": [
    "# remove externally managed python environment\n",
    "import sysconfig, os, errno\n",
    "ext_mgmt = os.path.join(sysconfig.get_path(\"stdlib\", sysconfig.get_default_scheme()),\"EXTERNALLY-MANAGED\")\n",
    "try:\n",
    "    os.remove(ext_mgmt)\n",
    "    print(f\"removed {ext_mgmt}\")\n",
    "except OSError as e:\n",
    "    if e.errno != errno.ENOENT:\n",
    "        raise\n",
    "    else:\n",
    "        print(f\"file not found -> {ext_mgmt}\")"
   ]
  }
 ],
 "metadata": {
  "kernelspec": {
   "display_name": "Python 3",
   "language": "python",
   "name": "python3"
  },
  "language_info": {
   "codemirror_mode": {
    "name": "ipython",
    "version": 3
   },
   "file_extension": ".py",
   "mimetype": "text/x-python",
   "name": "python",
   "nbconvert_exporter": "python",
   "pygments_lexer": "ipython3",
   "version": "3.12.1"
  },
  "orig_nbformat": 4
 },
 "nbformat": 4,
 "nbformat_minor": 2
}
